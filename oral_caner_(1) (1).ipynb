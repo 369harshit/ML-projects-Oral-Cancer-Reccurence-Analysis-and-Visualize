{
  "cells": [
    {
      "cell_type": "code",
      "execution_count": 13,
      "metadata": {},
      "outputs": [
        {
          "name": "stdout",
          "output_type": "stream",
          "text": [
            "Best Parameters: {'bootstrap': True, 'max_depth': None, 'min_samples_leaf': 4, 'min_samples_split': 2, 'n_estimators': 300}\n",
            "Accuracy: 0.74\n",
            "Feature Importances:\n",
            "                                   Feature  Importance\n",
            "0                                     AGE     0.219299\n",
            "2                                     SITE    0.155208\n",
            "9                   Pathologic group Stage    0.119199\n",
            "5                                       pT    0.115369\n",
            "6                                       pN    0.100565\n",
            "7   (surgery is compulsory for all ) RT/CT    0.083669\n",
            "3                                       cT    0.075960\n",
            "4                                       cN    0.048782\n",
            "8                DEGREE OF DIFFERENTIATION    0.042152\n",
            "1                                      SEX    0.039796\n"
          ]
        },
        {
          "data": {
            "image/png": "[encoded data removed]",
            "text/plain": [
              "<Figure size 640x480 with 2 Axes>"
            ]
          },
          "metadata": {},
          "output_type": "display_data"
        },
        {
          "name": "stdout",
          "output_type": "stream",
          "text": [
            "              precision    recall  f1-score   support\n",
            "\n",
            "           0       0.86      0.80      0.83        15\n",
            "           1       0.25      0.50      0.33         2\n",
            "           2       0.80      0.67      0.73         6\n",
            "\n",
            "    accuracy                           0.74        23\n",
            "   macro avg       0.64      0.66      0.63        23\n",
            "weighted avg       0.79      0.74      0.76        23\n",
            "\n",
            "0.7391304347826086\n"
          ]
        }
      ],
      "source": [
        "# Import necessary libraries\n",
        "import pandas as pd  # For data manipulation and analysis\n",
        "from sklearn.model_selection import train_test_split, GridSearchCV  # For splitting data and hyperparameter tuning\n",
        "from sklearn.ensemble import RandomForestClassifier  # Random Forest classifier\n",
        "from sklearn.preprocessing import LabelEncoder, StandardScaler  # For encoding and scaling data\n",
        "from sklearn.metrics import accuracy_score, classification_report, confusion_matrix, ConfusionMatrixDisplay  # For model evaluation\n",
        "import matplotlib.pyplot as plt  # For data visualization\n",
        "\n",
        "# Read the dataset\n",
        "df = pd.read_excel('Dataset_OSCC (2) (1) (1).xlsx')\n",
        "\n",
        "# Encode the target variable\n",
        "label_encoder = LabelEncoder()  # Initialize label encoder\n",
        "df['Recurrence'] = label_encoder.fit_transform(df['Recurrence'])  # Encode the 'Recurrence' column into numerical values\n",
        "\n",
        "# Encode categorical columns\n",
        "categorical_columns = df.select_dtypes(include=['object']).columns  # Identify categorical columns\n",
        "for column in categorical_columns:  # Iterate over each categorical column\n",
        "    df[column] = label_encoder.fit_transform(df[column])  # Encode each categorical column into numerical values\n",
        "\n",
        "# Features and target variable\n",
        "X = df.drop(columns=['Recurrence', 'Sl No ', 'Duration'])  # Features\n",
        "y = df['Recurrence']  # Target variable\n",
        "\n",
        "# Split the dataset into training and testing sets\n",
        "X_train, X_test, y_train, y_test = train_test_split(X, y, test_size=0.2, random_state=42)  # Split data with 80% training and 20% testing\n",
        "\n",
        "# Feature Scaling\n",
        "scaler = StandardScaler()  # Initialize scaler\n",
        "X_train_scaled = scaler.fit_transform(X_train)  # Scale the training features\n",
        "X_test_scaled = scaler.transform(X_test)  # Scale the testing features\n",
        "\n",
        "# Random Forest classifier with GridSearchCV for hyperparameter tuning\n",
        "param_grid = {\n",
        "    'n_estimators': [100, 200, 300],  # Number of trees in the forest\n",
        "    'max_depth': [None, 10, 20],  # Maximum depth of the tree\n",
        "    'min_samples_split': [2, 5, 10],  # Minimum number of samples required to split an internal node\n",
        "    'min_samples_leaf': [1, 2, 4],  # Minimum number of samples required to be at a leaf node\n",
        "    'bootstrap': [True, False]  # Whether bootstrap samples are used when building trees\n",
        "}\n",
        "\n",
        "rf_classifier = RandomForestClassifier(random_state=42)  # Initialize Random Forest classifier\n",
        "grid_search = GridSearchCV(estimator=rf_classifier, param_grid=param_grid, cv=5, n_jobs=-1)  # GridSearchCV for hyperparameter tuning\n",
        "grid_search.fit(X_train_scaled, y_train)  # Fit the model\n",
        "\n",
        "# Best parameters found by GridSearchCV\n",
        "print(\"Best Parameters:\", grid_search.best_params_)  # Print the best parameters found by GridSearchCV\n",
        "\n",
        "# Predictions\n",
        "y_pred = grid_search.predict(X_test_scaled)  # Predict on the testing set\n",
        "\n",
        "# Calculate accuracy\n",
        "accuracy = accuracy_score(y_test, y_pred)  # Calculate accuracy\n",
        "print(f\"Accuracy: {accuracy:.2f}\")  # Print accuracy score\n",
        "\n",
        "# Feature Importances\n",
        "feature_importances = pd.DataFrame({'Feature': X.columns, 'Importance': grid_search.best_estimator_.feature_importances_})  # Create DataFrame for feature importances\n",
        "feature_importances = feature_importances.sort_values(by='Importance', ascending=False)  # Sort feature importances\n",
        "print(\"Feature Importances:\")  # Print feature importances\n",
        "print(feature_importances)  # Print feature importances DataFrame\n",
        "\n",
        "# Confusion Matrix\n",
        "cm = confusion_matrix(y_test, y_pred)  # Calculate confusion matrix\n",
        "disp = ConfusionMatrixDisplay(confusion_matrix=cm, display_labels=grid_search.classes_)  # Create ConfusionMatrixDisplay object\n",
        "disp.plot()  # Plot confusion matrix\n",
        "plt.show()  # Show plot\n",
        "\n",
        "# Classification Report\n",
        "print(classification_report(y_test, y_pred))  # Print classification report\n",
        "\n",
        "# Accuracy Score\n",
        "acs = accuracy_score(y_test, y_pred)  # Calculate accuracy score\n",
        "print(acs)  # Print accuracy score\n"
      ]
    }
  ],
  "metadata": {
    "colab": {
      "provenance": []
    },
    "kernelspec": {
      "display_name": "Python 3",
      "name": "python3"
    },
    "language_info": {
      "codemirror_mode": {
        "name": "ipython",
        "version": 3
      },
      "file_extension": ".py",
      "mimetype": "text/x-python",
      "name": "python",
      "nbconvert_exporter": "python",
      "pygments_lexer": "ipython3",
      "version": "3.11.2"
    }
  },
  "nbformat": 4,
  "nbformat_minor": 0
}
